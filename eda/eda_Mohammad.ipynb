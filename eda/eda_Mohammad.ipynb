{
 "cells": [
  {
   "cell_type": "markdown",
   "metadata": {},
   "source": [
    "## Cryptocurrency coinmarket EDA"
   ]
  },
  {
   "cell_type": "code",
   "execution_count": null,
   "metadata": {},
   "outputs": [
    {
     "data": {
      "text/plain": [
       "{'status': {'timestamp': '2025-02-17T00:19:27.236Z',\n",
       "  'error_code': 0,\n",
       "  'error_message': None,\n",
       "  'elapsed': 16,\n",
       "  'credit_count': 1,\n",
       "  'notice': None},\n",
       " 'data': {'ADA': {'id': 2010,\n",
       "   'name': 'Cardano',\n",
       "   'symbol': 'ADA',\n",
       "   'slug': 'cardano',\n",
       "   'num_market_pairs': 1460,\n",
       "   'date_added': '2017-10-01T00:00:00.000Z',\n",
       "   'tags': ['dpos',\n",
       "    'pos',\n",
       "    'platform',\n",
       "    'research',\n",
       "    'smart-contracts',\n",
       "    'staking',\n",
       "    'cardano-ecosystem',\n",
       "    'cardano',\n",
       "    'layer-1',\n",
       "    'alleged-sec-securities',\n",
       "    '2017-2018-alt-season',\n",
       "    'made-in-america'],\n",
       "   'max_supply': 45000000000,\n",
       "   'circulating_supply': 35201193525.86875,\n",
       "   'total_supply': 44994975100.72033,\n",
       "   'is_active': 1,\n",
       "   'infinite_supply': False,\n",
       "   'platform': None,\n",
       "   'cmc_rank': 9,\n",
       "   'is_fiat': 0,\n",
       "   'self_reported_circulating_supply': None,\n",
       "   'self_reported_market_cap': None,\n",
       "   'tvl_ratio': None,\n",
       "   'last_updated': '2025-02-17T00:17:00.000Z',\n",
       "   'quote': {'USD': {'price': 0.7734509089918173,\n",
       "     'volume_24h': 449880764.855667,\n",
       "     'volume_change_24h': -7.6738,\n",
       "     'percent_change_1h': -0.49440981,\n",
       "     'percent_change_24h': -0.96507034,\n",
       "     'percent_change_7d': 11.53287306,\n",
       "     'percent_change_30d': -32.26590023,\n",
       "     'percent_change_60d': -20.6248088,\n",
       "     'percent_change_90d': 5.61005432,\n",
       "     'market_cap': 27226395130.18006,\n",
       "     'market_cap_dominance': 0.852,\n",
       "     'fully_diluted_market_cap': 34805290904.63,\n",
       "     'tvl': None,\n",
       "     'last_updated': '2025-02-17T00:17:00.000Z'}}}}}"
      ]
     },
     "execution_count": 24,
     "metadata": {},
     "output_type": "execute_result"
    }
   ],
   "source": [
    "\n",
    "from requests import Request, Session\n",
    "from requests.exceptions import ConnectionError, Timeout, TooManyRedirects\n",
    "import json\n",
    "from dotenv import load_dotenv \n",
    "import os  \n",
    "\n",
    "load_dotenv()\n",
    "\n",
    "target_symbol = 'ADA'\n",
    "API_KEY = os.getenv(\"COINMARKET_API\")\n",
    "\n",
    "url = 'https://pro-api.coinmarketcap.com/v1/cryptocurrency/quotes/latest'\n",
    "parameters = {\n",
    "    'symbol': target_symbol,\n",
    "    \"convert\":\"USD\"\n",
    "\n",
    "}\n",
    "headers = {\n",
    "  'Accepts': 'application/json',\n",
    "  'X-CMC_PRO_API_KEY': API_KEY,\n",
    "}\n",
    "\n",
    "session = Session()\n",
    "session.headers.update(headers)\n",
    "\n",
    "try:\n",
    "  response = session.get(url, params=parameters)\n",
    "  data = json.loads(response.text)\n",
    "    \n",
    " \n",
    "except (ConnectionError, Timeout, TooManyRedirects) as e:\n",
    "  print(e)\n",
    "\n",
    "\n",
    "data\n",
    "  \n",
    "\n",
    " "
   ]
  },
  {
   "cell_type": "code",
   "execution_count": 25,
   "metadata": {},
   "outputs": [
    {
     "data": {
      "text/plain": [
       "dict_keys(['status', 'data'])"
      ]
     },
     "execution_count": 25,
     "metadata": {},
     "output_type": "execute_result"
    }
   ],
   "source": [
    "data.keys() # to see the keys in the dictionary"
   ]
  },
  {
   "cell_type": "code",
   "execution_count": 26,
   "metadata": {},
   "outputs": [
    {
     "data": {
      "text/plain": [
       "dict_keys(['ADA'])"
      ]
     },
     "execution_count": 26,
     "metadata": {},
     "output_type": "execute_result"
    }
   ],
   "source": [
    "data[\"data\"].keys() # to see the data in the dictionary"
   ]
  },
  {
   "cell_type": "code",
   "execution_count": 27,
   "metadata": {},
   "outputs": [
    {
     "data": {
      "text/plain": [
       "dict_keys(['id', 'name', 'symbol', 'slug', 'num_market_pairs', 'date_added', 'tags', 'max_supply', 'circulating_supply', 'total_supply', 'is_active', 'infinite_supply', 'platform', 'cmc_rank', 'is_fiat', 'self_reported_circulating_supply', 'self_reported_market_cap', 'tvl_ratio', 'last_updated', 'quote'])"
      ]
     },
     "execution_count": 27,
     "metadata": {},
     "output_type": "execute_result"
    }
   ],
   "source": [
    "data[\"data\"][\"ADA\"].keys() # to see the data in the dictionary"
   ]
  },
  {
   "cell_type": "code",
   "execution_count": 32,
   "metadata": {},
   "outputs": [
    {
     "data": {
      "text/plain": [
       "('Cardano',\n",
       " 'Cardano',\n",
       " 'cardano',\n",
       " 0.7734509089918173,\n",
       " 449880764.855667,\n",
       " -0.49440981,\n",
       " -0.96507034,\n",
       " 11.53287306,\n",
       " 27226395130.18006)"
      ]
     },
     "execution_count": 32,
     "metadata": {},
     "output_type": "execute_result"
    }
   ],
   "source": [
    "ada_data = data[\"data\"][\"ADA\"]\n",
    "ada_data[\"name\"],ada_data[\"name\"],ada_data [\"slug\"],ada_data[\"quote\"][\"USD\"][\"price\"],ada_data[\"quote\"][\"USD\"][\"volume_24h\"],ada_data[\"quote\"][\"USD\"][\"percent_change_1h\"],ada_data[\"quote\"][\"USD\"][\"percent_change_24h\"],ada_data[\"quote\"][\"USD\"][\"percent_change_7d\"],ada_data[\"quote\"][\"USD\"][\"market_cap\"]"
   ]
  },
  {
   "cell_type": "code",
   "execution_count": 33,
   "metadata": {},
   "outputs": [
    {
     "data": {
      "text/plain": [
       "{'USD': {'price': 0.7734509089918173,\n",
       "  'volume_24h': 449880764.855667,\n",
       "  'volume_change_24h': -7.6738,\n",
       "  'percent_change_1h': -0.49440981,\n",
       "  'percent_change_24h': -0.96507034,\n",
       "  'percent_change_7d': 11.53287306,\n",
       "  'percent_change_30d': -32.26590023,\n",
       "  'percent_change_60d': -20.6248088,\n",
       "  'percent_change_90d': 5.61005432,\n",
       "  'market_cap': 27226395130.18006,\n",
       "  'market_cap_dominance': 0.852,\n",
       "  'fully_diluted_market_cap': 34805290904.63,\n",
       "  'tvl': None,\n",
       "  'last_updated': '2025-02-17T00:17:00.000Z'}}"
      ]
     },
     "execution_count": 33,
     "metadata": {},
     "output_type": "execute_result"
    }
   ],
   "source": [
    "ada_data[\"quote\"]"
   ]
  },
  {
   "cell_type": "code",
   "execution_count": null,
   "metadata": {},
   "outputs": [],
   "source": []
  }
 ],
 "metadata": {
  "kernelspec": {
   "display_name": ".venv",
   "language": "python",
   "name": "python3"
  },
  "language_info": {
   "codemirror_mode": {
    "name": "ipython",
    "version": 3
   },
   "file_extension": ".py",
   "mimetype": "text/x-python",
   "name": "python",
   "nbconvert_exporter": "python",
   "pygments_lexer": "ipython3",
   "version": "3.12.8"
  }
 },
 "nbformat": 4,
 "nbformat_minor": 2
}
